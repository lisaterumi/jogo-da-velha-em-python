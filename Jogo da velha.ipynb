{
 "cells": [
  {
   "cell_type": "markdown",
   "metadata": {},
   "source": [
    "# Jogo da Velha em Python\n",
    "\n",
    "Tods nós conehcemos o famoso \"jogo da velha\" (*tic tac toe*), já existente desde os tempos do antigo Egito.\n",
    "\n",
    "Com este projeto [Python da TechVidvan](https://techvidvan.com/tutorials/python-game-project-tic-tac-toe/), vamos desenvolver um jogo interativo de Jogo da velha, onde aprenderemos coisas novas ao longo do caminho.\n",
    "\n",
    "### Sobre o jogo\n",
    "\n",
    "O jogo-da-velha é jogado por duas pessoas. Primeiro, desenhamos um tabuleiro quadrado no formato 3 × 3. O primeiro jogador escolhe 'X' e desenha em qualquer um dos quadrados da grade. O segundo jogador desenha 'O' nos espaços disponíveis. \n",
    "\n",
    "Assim, os jogadores desenham 'X' e 'O' alternadamente nos espaços vazios até que um jogador consiga desenhar 3 marcas consecutivas na horizontal, vertical ou diagonal. Então o jogador ganha o jogo, caso contrário o jogo empata quando todas as vagas forem preenchidas.\n",
    "\n",
    "![tic-tac-toe-project-in-python.gif](tic-tac-toe-project-in-python.gif)"
   ]
  },
  {
   "cell_type": "markdown",
   "metadata": {},
   "source": [
    "### Detalhes do projeto\n",
    "\n",
    "O projeto Python será construído usando a biblioteca ```Pygame```, mas não se preocupe, vamos explicar todos os métodos que são usados neste projeto. Pygame é uma ótima biblioteca que nos permitirá criar a janela e desenhar imagens e formas na janela.\n",
    "\n",
    "Desta forma, iremos capturar as coordenadas do mouse e identificar o bloco onde precisamos marcar 'X' ou 'O'. Então vamos verificar se o usuário ganha o jogo ou não.\n",
    "\n",
    "### Pré-requisitos\n",
    "\n",
    "Para implementar este jogo, usaremos os conceitos básicos de Python e ```Pygame```, biblioteca Python para construção de jogos multiplataforma. Ele contém os módulos necessários para computação gráfica e bibliotecas de som. Para instalar a biblioteca, você pode usar o instalador do pip a partir da linha de comando:\n",
    "\n",
    "```pip install pygame```"
   ]
  },
  {
   "cell_type": "markdown",
   "metadata": {},
   "source": [
    "### Etapas \n",
    "\n",
    "1. Criar a janela de exibição do jogo\n",
    "1. Desenhar a grade na tela\n",
    "1. Desenhar a barra de status abaixo da tela para mostrar de qual jogador é a vez e quem ganha o jogo\n",
    "1. Quando alguém ganha o jogo ou o jogo empata, devemos reiniciamos o jogo.\n",
    "\n",
    "Precisamos rodar nosso jogo dentro de um *loop* infinito. Ele irá continuamente procurar por eventos e quando um usuário pressionar o botão do *mouse* na grade, obteremos as coordenadas X e Y do *mouse* e verificaremos em qual quadrado o usuário clicou. \n",
    "\n",
    "Em seguida, desenharemos a imagem 'X' ou 'O' apropriada na tela. Então, é basicamente isso que faremos nesta ideia de projeto Python.\n",
    "\n",
    "#### Inicializando os componentes do jogo\n",
    "\n",
    "Então, vamos começar importando a biblioteca ```pygame``` e a biblioteca de tempo, porque usaremos o método ```time.sleep()``` para pausar o jogo em certas posições. Em seguida, inicializamos todas as variáveis globais que usaremos em nosso jogo."
   ]
  },
  {
   "cell_type": "code",
   "execution_count": 1,
   "metadata": {},
   "outputs": [
    {
     "name": "stdout",
     "output_type": "stream",
     "text": [
      "pygame 2.0.1 (SDL 2.0.14, Python 3.8.5)\n",
      "Hello from the pygame community. https://www.pygame.org/contribute.html\n"
     ]
    }
   ],
   "source": [
    "import pygame as pg,sys\n",
    "from pygame.locals import *\n",
    "import time\n",
    "#inicializa variaveis globais\n",
    "XO = 'x'\n",
    "winner = None\n",
    "draw = False\n",
    "width = 400\n",
    "height = 400\n",
    "white = (255, 255, 255)\n",
    "line_color = (10,10,10)\n",
    "#Tabuleiro 3x3 \n",
    "TTT = [[None]*3,[None]*3,[None]*3]"
   ]
  },
  {
   "cell_type": "markdown",
   "metadata": {},
   "source": [
    "Aqui, o TTT é a placa principal 3 × 3 *Tic Tac Toe* e, a princípio, terá 9 valores ```<None>``` (\"Vazio\"). A altura e largura da tela onde jogaremos o jogo é 400 × 400.\n",
    "\n",
    "#### Inicializando a janela Pygame\n",
    "\n",
    "Usamos o ```pygame``` para criar uma nova janela onde jogaremos nosso jogo da velha. Vamos inicializar o ```pygame``` com o método ```pg.init ()```, com janela de largura de 400 e uma altura de 500. Reservamos um espaço de 100 pixels para exibir o *status* do jogo.\n",
    "\n",
    "O ```pg.display.set_mode()``` inicializa a exibição, e fazemos referência a ele com a variável de tela. Esta variável de tela será usada sempre que quisermos desenhar algo no visor.\n",
    "\n",
    "O método ```pg.display.set_caption``` é usado para definir um nome que aparecerá na parte superior da janela de exibição."
   ]
  },
  {
   "cell_type": "code",
   "execution_count": 2,
   "metadata": {},
   "outputs": [],
   "source": [
    "#inicializando a janela pygame\n",
    "pg.init()\n",
    "fps = 30\n",
    "CLOCK = pg.time.Clock()\n",
    "screen = pg.display.set_mode((width, height+100),0,32)\n",
    "pg.display.set_caption(\"Jogo da Velha\")"
   ]
  },
  {
   "cell_type": "markdown",
   "metadata": {},
   "source": [
    "#### Carregar e transformar imagens\n",
    "\n",
    "O projeto Python usa muitas imagens como a imagem de abertura que será exibida quando o jogo iniciar ou reiniciar e as imagens X e O que desenharemos quando o usuário clicar na grade. Carregamos todas as imagens e as redimensionamos para que caibam facilmente em nossa janela."
   ]
  },
  {
   "cell_type": "code",
   "execution_count": 3,
   "metadata": {},
   "outputs": [],
   "source": [
    "#carregando as imagens\n",
    "opening = pg.image.load('img/tic tac opening.png')\n",
    "x_img = pg.image.load('img/x.png')\n",
    "o_img = pg.image.load('img/o.png')\n",
    "#redimensionando \n",
    "x_img = pg.transform.scale(x_img, (80,80))\n",
    "o_img = pg.transform.scale(o_img, (80,80))\n",
    "opening = pg.transform.scale(opening, (width, height+100))"
   ]
  },
  {
   "cell_type": "markdown",
   "metadata": {},
   "source": [
    "#### Definição das funções\n",
    "\n",
    "Agora criamos uma função que iniciará o jogo. Também usaremos esta função quando quisermos reiniciar o jogo. No ```pygame```, a função ```blit()``` é usada na superfície para desenhar uma imagem em cima de outra imagem.\n",
    "\n",
    "Então desenhamos a imagem de abertura e após desenhar, sempre precisamos atualizar a exibição com ```pg.display.update()```. Quando a imagem de abertura é desenhada, esperamos um segundo usando ```time.sleep(1)``` e preenchemos a tela com a cor branca.\n",
    "\n",
    "Em seguida, desenhamos 2 linhas verticais e horizontais no fundo branco para fazer a grade 3 × 3. No final, chamamos a função ```draw_status()```."
   ]
  },
  {
   "cell_type": "code",
   "execution_count": 4,
   "metadata": {},
   "outputs": [],
   "source": [
    "def game_opening():\n",
    "    screen.blit(opening,(0,0))\n",
    "    pg.display.update()\n",
    "    time.sleep(1)\n",
    "    screen.fill(white)\n",
    "    # Desenhando linhas verticais\n",
    "    pg.draw.line(screen,line_color,(width/3,0),(width/3, height),7)\n",
    "    pg.draw.line(screen,line_color,(width/3*2,0),(width/3*2, height),7)\n",
    "    # Desenhando linhas horizontais\n",
    "    pg.draw.line(screen,line_color,(0,height/3),(width, height/3),7)\n",
    "    pg.draw.line(screen,line_color,(0,height/3*2),(width, height/3*2),7)\n",
    "    draw_status()"
   ]
  },
  {
   "cell_type": "markdown",
   "metadata": {},
   "source": [
    "A função ```draw_status()``` desenha um retângulo preto onde atualizamos o status do jogo, mostrando de qual jogador é a vez e se o jogo terminou ou empatou."
   ]
  },
  {
   "cell_type": "code",
   "execution_count": 5,
   "metadata": {},
   "outputs": [],
   "source": [
    "def draw_status():\n",
    "    global draw\n",
    "    if winner is None:\n",
    "        message = \"É a vez do jogador \" + XO.upper()\n",
    "    else:\n",
    "        message = winner.upper() + \" ganhou!\"\n",
    "    if draw:\n",
    "        message = 'Empatou!'\n",
    "    font = pg.font.Font(None, 30)\n",
    "    text = font.render(message, 1, (255, 255, 255))\n",
    "    # copiando a mensagem no tabuleiro\n",
    "    screen.fill ((0, 0, 0), (0, 400, 500, 100))\n",
    "    text_rect = text.get_rect(center=(width/2, 500-50))\n",
    "    screen.blit(text, text_rect)\n",
    "    pg.display.update()"
   ]
  },
  {
   "cell_type": "markdown",
   "metadata": {},
   "source": [
    "A função ```check_win()``` verifica o tabuleiro do jogo da velha para ver todas as marcas de 'X' e 'O'. Calcula se um jogador ganhou o jogo ou não. Eles podem ganhar quando o jogador marcou 3 marcas consecutivas em uma linha, coluna ou diagonalmente. Esta função é chamada sempre que desenhamos uma marca ‘X’ ou ‘O’ no quadro."
   ]
  },
  {
   "cell_type": "code",
   "execution_count": 6,
   "metadata": {},
   "outputs": [],
   "source": [
    "def check_win():\n",
    "    global TTT, winner,draw\n",
    "    # checa por linhas vencedoras\n",
    "    for row in range (0,3):\n",
    "        if ((TTT [row][0] == TTT[row][1] == TTT[row][2]) and(TTT [row][0] is not None)):\n",
    "            # linha vencedora\n",
    "            winner = TTT[row][0]\n",
    "            pg.draw.line(screen, (250,0,0), (0, (row + 1)*height/3 -height/6),\\\n",
    "                              (width, (row + 1)*height/3 - height/6 ), 4)\n",
    "            break\n",
    "    # checa por colunas vencedoras\n",
    "    for col in range (0, 3):\n",
    "        if (TTT[0][col] == TTT[1][col] == TTT[2][col]) and (TTT[0][col] is not None):\n",
    "            # coluna vencedora\n",
    "            winner = TTT[0][col]\n",
    "            #desenha a linha\n",
    "            pg.draw.line (screen, (250,0,0),((col + 1)* width/3 - width/6, 0),\\\n",
    "                          ((col + 1)* width/3 - width/6, height), 4)\n",
    "            break\n",
    "    # checa por diagonais vencedoras\n",
    "    if (TTT[0][0] == TTT[1][1] == TTT[2][2]) and (TTT[0][0] is not None):\n",
    "        # venceu da esquerda para direita \n",
    "        winner = TTT[0][0]\n",
    "        pg.draw.line (screen, (250,70,70), (50, 50), (350, 350), 4)\n",
    "    if (TTT[0][2] == TTT[1][1] == TTT[2][0]) and (TTT[0][2] is not None):\n",
    "        # venceu da direita para esquerda\n",
    "        winner = TTT[0][2]\n",
    "        pg.draw.line (screen, (250,70,70), (350, 50), (50, 350), 4)\n",
    "    if(all([all(row) for row in TTT]) and winner is None ):\n",
    "        draw = True\n",
    "    draw_status()"
   ]
  },
  {
   "cell_type": "markdown",
   "metadata": {},
   "source": [
    "A função ```drawXO(row, col)``` pega a linha e coluna onde o *mouse* é clicado e, em seguida, desenha a marca 'X' ou 'O'. \n",
    "\n",
    "Calculamos as coordenadas x e y do ponto de partida de onde desenharemos a imagem da marca."
   ]
  },
  {
   "cell_type": "code",
   "execution_count": 7,
   "metadata": {},
   "outputs": [],
   "source": [
    "def drawXO(row,col):\n",
    "    global TTT,XO\n",
    "    if row==1:\n",
    "        posx = 30\n",
    "    if row==2:\n",
    "        posx = width/3 + 30\n",
    "    if row==3:\n",
    "        posx = width/3*2 + 30\n",
    "    if col==1:\n",
    "        posy = 30\n",
    "    if col==2:\n",
    "        posy = height/3 + 30\n",
    "    if col==3:\n",
    "        posy = height/3*2 + 30\n",
    "    TTT[row-1][col-1] = XO\n",
    "    if(XO == 'x'):\n",
    "        screen.blit(x_img,(posy,posx))\n",
    "        XO= 'o'\n",
    "    else:\n",
    "        screen.blit(o_img,(posy,posx))\n",
    "        XO= 'x'\n",
    "    pg.display.update()\n",
    "    #print(posx,posy)\n",
    "    #print(TTT)"
   ]
  },
  {
   "cell_type": "markdown",
   "metadata": {},
   "source": [
    "A função ```userClick()``` é disparada toda vez que o usuário pressiona o botão do mouse.\n",
    "\n",
    "Quando o usuário clica com o *mouse*, primeiro pegamos as coordenadas x e y de onde o mouse é clicado na janela de exibição e, em seguida, se esse lugar não estiver ocupado, desenhamos o 'X / O' na tela. Também verificamos se o jogador ganha ou não depois de desenhar 'X / O' no tabuleiro."
   ]
  },
  {
   "cell_type": "code",
   "execution_count": 8,
   "metadata": {},
   "outputs": [],
   "source": [
    "def userClick():\n",
    "    #pega as coordenadas do clique \n",
    "    x,y = pg.mouse.get_pos()\n",
    "    #pela coluna do clique (1-3)\n",
    "    if(x<width/3):\n",
    "        col = 1\n",
    "    elif (x<width/3*2):\n",
    "        col = 2\n",
    "    elif(x<width):\n",
    "        col = 3\n",
    "    else:\n",
    "        col = None\n",
    "    #pega linha do clique (1-3)\n",
    "    if(y<height/3):\n",
    "        row = 1\n",
    "    elif (y<height/3*2):\n",
    "        row = 2\n",
    "    elif(y<height):\n",
    "        row = 3\n",
    "    else:\n",
    "        row = None\n",
    "    #print(row,col)\n",
    "    if(row and col and TTT[row-1][col-1] is None):\n",
    "        global XO\n",
    "        #desenha o X ou O na tela\n",
    "        drawXO(row,col)\n",
    "        check_win()"
   ]
  },
  {
   "cell_type": "markdown",
   "metadata": {},
   "source": [
    "A última função é o ```reset_game()```. Isso reiniciará o jogo e também redefiniremos todas as variáveis para o início do jogo."
   ]
  },
  {
   "cell_type": "code",
   "execution_count": 9,
   "metadata": {},
   "outputs": [],
   "source": [
    "def reset_game():\n",
    "    global TTT, winner,XO, draw\n",
    "    time.sleep(3)\n",
    "    XO = 'x'\n",
    "    draw = False\n",
    "    game_opening()\n",
    "    winner=None\n",
    "    TTT = [[None]*3,[None]*3,[None]*3]"
   ]
  },
  {
   "cell_type": "markdown",
   "metadata": {},
   "source": [
    "#### Executando o jogo \n",
    "\n",
    "Para iniciar o jogo, basta chamar a função ```game_opening()```. Em seguida, executamos um *loop* infinito e verificamos continuamente se há algum evento feito pelo usuário. \n",
    "\n",
    "Se o usuário pressionar o botão do *mouse*, o evento MOUSEBUTTONDOWN será capturado e então acionaremos a função ```userClick()```. \n",
    "\n",
    "Se algum usuário vencer ou o jogo empatar, reinicializamos o jogo chamando a função ```reset_game()```. Atualizamos a exibição em cada iteração e definimos os quadros por segundo em 30."
   ]
  },
  {
   "cell_type": "code",
   "execution_count": 10,
   "metadata": {},
   "outputs": [
    {
     "ename": "SystemExit",
     "evalue": "",
     "output_type": "error",
     "traceback": [
      "An exception has occurred, use %tb to see the full traceback.\n",
      "\u001b[1;31mSystemExit\u001b[0m\n"
     ]
    },
    {
     "name": "stderr",
     "output_type": "stream",
     "text": [
      "UserWarning: To exit: use 'exit', 'quit', or Ctrl-D.\n",
      "  warn(\"To exit: use 'exit', 'quit', or Ctrl-D.\", stacklevel=1)\n"
     ]
    }
   ],
   "source": [
    "game_opening()\n",
    "# executa o jogo em loop\n",
    "while(True):\n",
    "    for event in pg.event.get():\n",
    "        if event.type == QUIT:\n",
    "            pg.quit()\n",
    "            sys.exit()\n",
    "        elif event.type == MOUSEBUTTONUP or event.type == MOUSEBUTTONDOWN:\n",
    "            # clique do usuario, deve colocar X ou O\n",
    "            userClick()\n",
    "            if(winner or draw):\n",
    "                reset_game()\n",
    "    pg.display.update()\n",
    "    CLOCK.tick(fps)"
   ]
  },
  {
   "cell_type": "markdown",
   "metadata": {},
   "source": [
    "O jogo está completo e pronto para jogar!!"
   ]
  },
  {
   "cell_type": "markdown",
   "metadata": {},
   "source": [
    "Fonte: https://techvidvan.com/tutorials/python-game-project-tic-tac-toe/"
   ]
  }
 ],
 "metadata": {
  "kernelspec": {
   "display_name": "Python 3",
   "language": "python",
   "name": "python3"
  },
  "language_info": {
   "codemirror_mode": {
    "name": "ipython",
    "version": 3
   },
   "file_extension": ".py",
   "mimetype": "text/x-python",
   "name": "python",
   "nbconvert_exporter": "python",
   "pygments_lexer": "ipython3",
   "version": "3.8.5"
  }
 },
 "nbformat": 4,
 "nbformat_minor": 4
}
